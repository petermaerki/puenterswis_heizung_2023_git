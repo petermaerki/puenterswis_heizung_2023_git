{
 "cells": [
  {
   "cell_type": "code",
   "execution_count": 1,
   "metadata": {},
   "outputs": [
    {
     "name": "stdout",
     "output_type": "stream",
     "text": [
      "Einstellen bei Oekofen: oekofen_puffertemp_min_ein_TPO 60.0\n",
      "Einstellen bei Oekofen: oekofen_Abschaltueberhoehung_2 5.0\n",
      "Einstellen bei Oekofen: oekofen_puffertemp_min_aus_TPM 60.0\n",
      "Einstellen bei Oekofen: oekofen_Abschaltueberhoehung_1 10.0\n"
     ]
    },
    {
     "data": {
      "image/png": "[encoded data removed]",
      "text/plain": [
       "<Figure size 640x480 with 1 Axes>"
      ]
     },
     "metadata": {},
     "output_type": "display_data"
    }
   ],
   "source": [
    "class Temperaturen:\n",
    "    '''ich waehle'''\n",
    "    TPO_ein_A_C = 65.0 # Einschalttemperatur erster Brenner, A\n",
    "    TPM_aus_A_C = 70.0 # Ausschalttemperatur erster Brenner, A\n",
    "    TPO_ein_B_C = 60.0 # Einschalttemperatur zweiter Brenner, B\n",
    "    TPM_aus_B_C = 65.0 # Ausschalttemperatur zweiter Brenner, B\n",
    "\n",
    "    def __init__(self) -> None:\n",
    "        self.oekofen_puffertemp_min_ein_TPO = self.TPO_ein_B_C\n",
    "        self.oekofen_Abschaltueberhoehung_2 = self.TPO_ein_A_C - self.oekofen_puffertemp_min_ein_TPO\n",
    "        self.oekofen_puffertemp_min_aus_TPM = self.TPM_aus_B_C - self.oekofen_Abschaltueberhoehung_2\n",
    "        self.oekofen_Abschaltueberhoehung_1 = self.TPM_aus_A_C - self.oekofen_puffertemp_min_aus_TPM\n",
    "\n",
    "        print(f'Einstellen bei Oekofen: oekofen_puffertemp_min_ein_TPO {self.oekofen_puffertemp_min_ein_TPO}')\n",
    "        print(f'Einstellen bei Oekofen: oekofen_Abschaltueberhoehung_2 {self.oekofen_Abschaltueberhoehung_2}')\n",
    "        print(f'Einstellen bei Oekofen: oekofen_puffertemp_min_aus_TPM {self.oekofen_puffertemp_min_aus_TPM}')\n",
    "        print(f'Einstellen bei Oekofen: oekofen_Abschaltueberhoehung_1 {self.oekofen_Abschaltueberhoehung_1}')\n",
    "\n",
    "t = Temperaturen()\n",
    "\n",
    "import matplotlib.pyplot as plt\n",
    "labels = ['Brenner A', 'Brenner B']\n",
    "bottoms = [t.TPO_ein_A_C, t.TPO_ein_B_C]  # Untere Grenze der Balken\n",
    "heights = [t.TPM_aus_A_C - t.TPO_ein_A_C, t.TPM_aus_B_C - t.TPO_ein_B_C]  # Höhe der Balken\n",
    "plt.bar(labels, heights, bottom=bottoms, width=0.4)\n",
    "plt.ylim(50, 80)\n",
    "plt.ylabel('Temperatur C')\n",
    "plt.title('Ein- und Auschalttemperaturen erster brenner_A und zweiter brenner_B')\n",
    "plt.grid(axis='y', linestyle='--', linewidth=0.7, alpha=0.7)\n",
    "plt.show()"
   ]
  },
  {
   "cell_type": "code",
   "execution_count": 2,
   "metadata": {},
   "outputs": [
    {
     "name": "stdout",
     "output_type": "stream",
     "text": [
      "Interpolierter Wert bei (40, 65): 2.4600773733824584\n"
     ]
    },
    {
     "ename": "NameError",
     "evalue": "name 'meshgrid' is not defined",
     "output_type": "error",
     "traceback": [
      "\u001b[1;31m---------------------------------------------------------------------------\u001b[0m",
      "\u001b[1;31mNameError\u001b[0m                                 Traceback (most recent call last)",
      "Cell \u001b[1;32mIn[2], line 105\u001b[0m\n\u001b[0;32m    101\u001b[0m     plt\u001b[38;5;241m.\u001b[39mfill_between(x\u001b[38;5;241m=\u001b[39mlinspace(\u001b[38;5;241m0\u001b[39m, \u001b[38;5;241m100\u001b[39m, \u001b[38;5;241m500\u001b[39m), y1\u001b[38;5;241m=\u001b[39m\u001b[38;5;241m0\u001b[39m, y2\u001b[38;5;241m=\u001b[39mlinspace(\u001b[38;5;241m0\u001b[39m, \u001b[38;5;241m100\u001b[39m, \u001b[38;5;241m500\u001b[39m), \n\u001b[0;32m    102\u001b[0m                      where\u001b[38;5;241m=\u001b[39m[\u001b[38;5;28;01mTrue\u001b[39;00m]\u001b[38;5;241m*\u001b[39m\u001b[38;5;241m500\u001b[39m, facecolor\u001b[38;5;241m=\u001b[39m\u001b[38;5;124m'\u001b[39m\u001b[38;5;124mnone\u001b[39m\u001b[38;5;124m'\u001b[39m, hatch\u001b[38;5;241m=\u001b[39m\u001b[38;5;124m'\u001b[39m\u001b[38;5;130;01m\\\\\u001b[39;00m\u001b[38;5;124m'\u001b[39m, edgecolor\u001b[38;5;241m=\u001b[39m\u001b[38;5;124m'\u001b[39m\u001b[38;5;124mred\u001b[39m\u001b[38;5;124m'\u001b[39m, alpha\u001b[38;5;241m=\u001b[39m\u001b[38;5;241m1\u001b[39m, zorder\u001b[38;5;241m=\u001b[39m\u001b[38;5;241m4\u001b[39m)\n\u001b[0;32m    103\u001b[0m     plt\u001b[38;5;241m.\u001b[39mshow()\n\u001b[1;32m--> 105\u001b[0m \u001b[43mplot_interpolation\u001b[49m\u001b[43m(\u001b[49m\u001b[43mbrennernamen\u001b[49m\u001b[38;5;241;43m=\u001b[39;49m\u001b[38;5;124;43m'\u001b[39;49m\u001b[38;5;124;43mbrenner_A\u001b[39;49m\u001b[38;5;124;43m'\u001b[39;49m\u001b[43m,\u001b[49m\u001b[43m \u001b[49m\u001b[43mtemp_ein_C\u001b[49m\u001b[38;5;241;43m=\u001b[39;49m\u001b[43mt\u001b[49m\u001b[38;5;241;43m.\u001b[39;49m\u001b[43mTPO_ein_A_C\u001b[49m\u001b[43m,\u001b[49m\u001b[43m \u001b[49m\u001b[43mtemp_aus_C\u001b[49m\u001b[38;5;241;43m=\u001b[39;49m\u001b[43mt\u001b[49m\u001b[38;5;241;43m.\u001b[39;49m\u001b[43mTPM_aus_A_C\u001b[49m\u001b[43m)\u001b[49m\n\u001b[0;32m    106\u001b[0m \u001b[38;5;66;03m#plot_interpolation(brennernamen='brenner_B', temp_ein_C=t.TPO_ein_B_C, temp_aus_C=t.TPM_aus_B_C)\u001b[39;00m\n",
      "Cell \u001b[1;32mIn[2], line 80\u001b[0m, in \u001b[0;36mplot_interpolation\u001b[1;34m(brennernamen, temp_ein_C, temp_aus_C)\u001b[0m\n\u001b[0;32m     77\u001b[0m X_values \u001b[38;5;241m=\u001b[39m linspace(min_x, max_x, grid_size)\n\u001b[0;32m     78\u001b[0m Y_values \u001b[38;5;241m=\u001b[39m linspace(min_y, max_y, grid_size)\n\u001b[1;32m---> 80\u001b[0m X, Y \u001b[38;5;241m=\u001b[39m \u001b[43mmeshgrid\u001b[49m(X_values, Y_values)\n\u001b[0;32m     82\u001b[0m Z \u001b[38;5;241m=\u001b[39m []\n\u001b[0;32m     83\u001b[0m \u001b[38;5;28;01mfor\u001b[39;00m i, y_row \u001b[38;5;129;01min\u001b[39;00m \u001b[38;5;28menumerate\u001b[39m(Y):\n",
      "\u001b[1;31mNameError\u001b[0m: name 'meshgrid' is not defined"
     ]
    }
   ],
   "source": [
    "import math\n",
    "\n",
    "def linspace(start, end, num):\n",
    "    \"\"\"Generates linearly spaced values between start and end.\"\"\"\n",
    "    if num == 1:\n",
    "        return [start]\n",
    "    step = (end - start) / (num - 1)\n",
    "    return [start + step * i for i in range(num)]\n",
    "\n",
    "def inverse_distance_weighting(x, y, points, power=2, epsilon=1e-6):\n",
    "    \"\"\"Interpolates value at (x, y) using Inverse Distance Weighting.\"\"\"\n",
    "    numerator = 0\n",
    "    denominator = 0\n",
    "    for (xi, yi, qi) in points:\n",
    "        distance = math.sqrt((x - xi)**2 + (y - yi)**2)\n",
    "        if distance < epsilon:  # If very close to a point\n",
    "            return qi\n",
    "        weight = 1 / (distance ** power)\n",
    "        numerator += weight * qi\n",
    "        denominator += weight\n",
    "    return numerator / denominator if denominator != 0 else 0\n",
    "\n",
    "def get_interpolated_value(x, y, temp_ein_C, temp_aus_C):\n",
    "    \"\"\"\n",
    "    Interpolates the value at (x, y) based on given temperature thresholds.\n",
    "\n",
    "    Args:\n",
    "        x (float): x-coordinate for interpolation.\n",
    "        y (float): y-coordinate for interpolation.\n",
    "        temp_ein_C (float): Threshold temperature for activation.\n",
    "        temp_aus_C (float): Threshold temperature for deactivation.\n",
    "\n",
    "    Returns:\n",
    "        float: Interpolated value at (x, y).\n",
    "    \"\"\"\n",
    "    offset = 1.0\n",
    "    lines = [\n",
    "        (0, temp_ein_C, temp_aus_C-offset, temp_ein_C, 0), \n",
    "        (temp_aus_C, 100, temp_aus_C, temp_ein_C+offset, 100), \n",
    "        (temp_aus_C-offset, temp_ein_C+offset, 0, 100, 50), \n",
    "        (0, 1, 1, 0, -100),\n",
    "        (0, temp_ein_C-11.0, 60, 18, -40),\n",
    "        (temp_aus_C+10.0, 100, 94, 43, 150),\n",
    "        (90, 100, 100, 90, 180),\n",
    "        (99, 100, 100, 99, 200),\n",
    "    ]\n",
    "\n",
    "    points = []\n",
    "    for (x1, y1, x2, y2, value) in lines:\n",
    "        num_points = 50\n",
    "        xi = linspace(x1, x2, num_points)\n",
    "        yi = linspace(y1, y2, num_points)\n",
    "        for j in range(num_points):\n",
    "            points.append((xi[j], yi[j], value))\n",
    "\n",
    "    # Compute the interpolated value at (x, y)\n",
    "    return inverse_distance_weighting(x, y, points, power=2, epsilon=1e-6)\n",
    "\n",
    "# Beispielaufruf\n",
    "x_value = 40  # Beispiel x-Koordinate\n",
    "y_value = 65  # Beispiel y-Koordinate\n",
    "temp_ein_C = 65\n",
    "temp_aus_C = 65\n",
    "\n",
    "z_value = get_interpolated_value(x_value, y_value, temp_ein_C, temp_aus_C)\n",
    "print(f\"Interpolierter Wert bei ({x_value}, {y_value}): {z_value}\")\n",
    "\n",
    "def plot_interpolation(brennernamen, temp_ein_C, temp_aus_C):\n",
    "    \"\"\"Generates and plots the interpolation based on temperature thresholds.\"\"\"\n",
    "    # Define interpolation grid\n",
    "    min_x = -20\n",
    "    max_x = 120\n",
    "    min_y = -20\n",
    "    max_y = 120\n",
    "\n",
    "    grid_size = 100\n",
    "    X_values = linspace(min_x, max_x, grid_size)\n",
    "    Y_values = linspace(min_y, max_y, grid_size)\n",
    "\n",
    "    X, Y = meshgrid(X_values, Y_values)\n",
    "\n",
    "    Z = []\n",
    "    for i, y_row in enumerate(Y):\n",
    "        Z_row = []\n",
    "        for j, x in enumerate(X[0]):\n",
    "            interpolated_value = get_interpolated_value(x, y_row[j], temp_ein_C, temp_aus_C)\n",
    "            Z_row.append(interpolated_value)\n",
    "        Z.append(Z_row)\n",
    "\n",
    "    levels = list(range(-100, 200, 10))\n",
    "\n",
    "    plt.figure(figsize=(10, 6))\n",
    "    plt.title(f\"Ladung Speicher Zentral, {brennernamen}, unter 0: schaltet ein, ueber 100: schaltet aus\")\n",
    "    plt.imshow(Z, extent=(min_x, max_x, min_y, max_y), origin='lower', cmap='viridis', aspect='auto')\n",
    "    plt.colorbar(label='Ladung')\n",
    "    contour = plt.contour(X[0], Y, Z, levels=levels, colors='black', linewidths=0.8)\n",
    "    plt.clabel(contour, inline=True, fontsize=8, fmt='%1.1f', colors='black')\n",
    "    plt.xlabel(\"TPM_C\")\n",
    "    plt.ylabel(\"TPO_C\")\n",
    "    plt.plot([0, 100], [0, 100], color='red', linewidth=1)\n",
    "    plt.fill_between(x=linspace(0, 100, 500), y1=0, y2=linspace(0, 100, 500), \n",
    "                     where=[True]*500, facecolor='none', hatch='\\\\', edgecolor='red', alpha=1, zorder=4)\n",
    "    plt.show()\n",
    "\n",
    "plot_interpolation(brennernamen='brenner_A', temp_ein_C=t.TPO_ein_A_C, temp_aus_C=t.TPM_aus_A_C)\n",
    "#plot_interpolation(brennernamen='brenner_B', temp_ein_C=t.TPO_ein_B_C, temp_aus_C=t.TPM_aus_B_C)"
   ]
  }
 ],
 "metadata": {
  "kernelspec": {
   "display_name": "Python 3",
   "language": "python",
   "name": "python3"
  },
  "language_info": {
   "codemirror_mode": {
    "name": "ipython",
    "version": 3
   },
   "file_extension": ".py",
   "mimetype": "text/x-python",
   "name": "python",
   "nbconvert_exporter": "python",
   "pygments_lexer": "ipython3",
   "version": "3.11.8"
  }
 },
 "nbformat": 4,
 "nbformat_minor": 2
}
